{
  "nbformat": 4,
  "nbformat_minor": 0,
  "metadata": {
    "colab": {
      "provenance": [],
      "authorship_tag": "ABX9TyPItnfVzaAbo1vhaRXx5hE5",
      "include_colab_link": true
    },
    "kernelspec": {
      "name": "python3",
      "display_name": "Python 3"
    },
    "language_info": {
      "name": "python"
    }
  },
  "cells": [
    {
      "cell_type": "markdown",
      "metadata": {
        "id": "view-in-github",
        "colab_type": "text"
      },
      "source": [
        "<a href=\"https://colab.research.google.com/github/meetAmarAtGithub/Research-Papers/blob/main/Text_Summary%5CText_Summary.ipynb\" target=\"_parent\"><img src=\"https://colab.research.google.com/assets/colab-badge.svg\" alt=\"Open In Colab\"/></a>"
      ]
    },
    {
      "cell_type": "markdown",
      "source": [
        "The proposed work on \"opinion summarization\" using abstractive-based and extractive-based techniques. The abstractive-based approach involves constructing graphs from text and generating candidate summaries by exploring graph properties and considering sentiment fusion. The extractive-based approach aims to reduce dimensions and find summary sentences based on thematic words and ranking.\n",
        "\n",
        "The proposed algorithm consists of several steps. In the abstractive-based approach, it starts with constructing graphs where nodes represent tokens in the text and edges represent word adjacency. The accuracy of the constructed sentences is ensured by following a set of rules. Sentences are scored, sentiments are merged, and redundant sentences are removed. Finally, the sentences are ranked for summarization.\n",
        "\n",
        "\n",
        "The code implementation is text summarization using **graph-based ranking**.\n",
        "Following is approach for generating summaries:\n",
        "\n",
        "1. It tokenizes the input text into sentences using the `sent_tokenize` function from NLTK.\n",
        "2. It builds a graph representation of the sentences, where each node represents a sentence and edges represent the similarity between sentences.\n",
        "3. The similarity between two sentences is calculated using cosine similarity based on the bag-of-words representation of the sentences.\n",
        "4. The graph is then ranked using the PageRank algorithm, assigning scores to each sentence.\n",
        "5. The sentences are sorted based on their scores, and the top-ranked sentences are selected to form the summary.\n",
        "6. Finally, the selected sentences are concatenated to generate the summary."
      ],
      "metadata": {
        "id": "p7H9W2ZiGVNs"
      }
    },
    {
      "cell_type": "code",
      "source": [
        "import nltk\n",
        "nltk.download('punkt')\n",
        "nltk.download('vader_lexicon')\n",
        "from nltk.tokenize import sent_tokenize\n",
        "from nltk.sentiment import SentimentIntensityAnalyzer\n",
        "import networkx as nx\n",
        "from sklearn.feature_extraction.text import CountVectorizer\n",
        "from sklearn.metrics.pairwise import cosine_similarity\n",
        "\n",
        "def build_graph(sentences):\n",
        "    graph = nx.Graph()\n",
        "    graph.add_nodes_from(range(len(sentences)))\n",
        "\n",
        "    for i in range(len(sentences)):\n",
        "        for j in range(i + 1, len(sentences)):\n",
        "            similarity_score = calculate_similarity(sentences[i], sentences[j])\n",
        "\n",
        "            if similarity_score > 0:\n",
        "                graph.add_edge(i, j, weight=similarity_score)\n",
        "\n",
        "    return graph\n",
        "\n",
        "def calculate_similarity(sentence1, sentence2):\n",
        "    vectorizer = CountVectorizer().fit_transform([sentence1, sentence2])\n",
        "    vectors = vectorizer.toarray()\n",
        "    similarity = cosine_similarity(vectors)\n",
        "\n",
        "    return similarity[0][1]\n",
        "\n",
        "def generate_summary(text, num_sentences):\n",
        "    sentences = sent_tokenize(text)\n",
        "\n",
        "    if num_sentences >= len(sentences):\n",
        "        return text\n",
        "\n",
        "    graph = build_graph(sentences)\n",
        "    scores = nx.pagerank(graph)\n",
        "\n",
        "    ranked_sentences = sorted(((scores[i], i) for i in graph.nodes()), reverse=True)\n",
        "    summary_sentences = [sentences[idx] for _, idx in ranked_sentences[:num_sentences]]\n",
        "\n",
        "    summary = \" \".join(summary_sentences)\n",
        "    return summary\n",
        "\n",
        "# Example usage\n",
        "text = \"Cerussite is a mineral consisting of lead carbonate (PbCO3), and is an important ore of lead. The name is from the Latin cerussa, white lead. Cerussa nativa was mentioned by Conrad Gessner in 1565, and in 1832 François Sulpice Beudant applied the name céruse to the mineral, while the present form, cerussite, is due to Wilhelm Karl Ritter von Haidinger in 1845. Miners' names for cerussite in early use were lead-spar and white-lead-ore. In a hydrate form known as white lead, the mineral is a key ingredient in lead paints and has also been used in cosmetics, but both uses are now discontinued in many places as a result of lead poisoning. These cerussite crystals, measuring approximately 4.0 cm × 3.0 cm × 2.0 cm (1.57 in × 1.18 in × 0.79 in), were found in a mine in Madan-e Nakhlak, Iran.\"\n",
        "summary = generate_summary(text, num_sentences=1)\n",
        "print(summary)\n"
      ],
      "metadata": {
        "colab": {
          "base_uri": "https://localhost:8080/"
        },
        "id": "3Zl_6bkcWTpc",
        "outputId": "100aa5a1-bae9-41bc-bfb1-fdff6f2ec585"
      },
      "execution_count": 20,
      "outputs": [
        {
          "output_type": "stream",
          "name": "stdout",
          "text": [
            "In a hydrate form known as white lead, the mineral is a key ingredient in lead paints and has also been used in cosmetics, but both uses are now discontinued in many places as a result of lead poisoning.\n"
          ]
        },
        {
          "output_type": "stream",
          "name": "stderr",
          "text": [
            "[nltk_data] Downloading package punkt to /root/nltk_data...\n",
            "[nltk_data]   Package punkt is already up-to-date!\n",
            "[nltk_data] Downloading package vader_lexicon to /root/nltk_data...\n",
            "[nltk_data]   Package vader_lexicon is already up-to-date!\n"
          ]
        }
      ]
    }
  ]
}